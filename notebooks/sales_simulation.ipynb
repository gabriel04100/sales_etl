{
 "cells": [
  {
   "cell_type": "markdown",
   "metadata": {},
   "source": [
    "# Simulation of sales"
   ]
  },
  {
   "cell_type": "code",
   "execution_count": 1,
   "metadata": {},
   "outputs": [],
   "source": [
    "import random\n",
    "import numpy as np\n",
    "from datetime import datetime, timedelta\n",
    "import pandas as pd\n"
   ]
  },
  {
   "cell_type": "markdown",
   "metadata": {},
   "source": [
    "**variables sim**"
   ]
  },
  {
   "cell_type": "code",
   "execution_count": 2,
   "metadata": {},
   "outputs": [],
   "source": [
    "product_id_sample = np.random.randint(low=10000, high=99999)\n",
    "customer_id_sample = np.random.randint(low=10000, high=99999)\n",
    "price = np.random.uniform(low=1, high=5000)\n",
    "quantity = np.random.randint(low=1, high=10)"
   ]
  },
  {
   "cell_type": "markdown",
   "metadata": {},
   "source": [
    "** we will assume the number of sales can be modelised with "
   ]
  },
  {
   "cell_type": "code",
   "execution_count": 4,
   "metadata": {},
   "outputs": [
    {
     "data": {
      "text/html": [
       "<div>\n",
       "<style scoped>\n",
       "    .dataframe tbody tr th:only-of-type {\n",
       "        vertical-align: middle;\n",
       "    }\n",
       "\n",
       "    .dataframe tbody tr th {\n",
       "        vertical-align: top;\n",
       "    }\n",
       "\n",
       "    .dataframe thead th {\n",
       "        text-align: right;\n",
       "    }\n",
       "</style>\n",
       "<table border=\"1\" class=\"dataframe\">\n",
       "  <thead>\n",
       "    <tr style=\"text-align: right;\">\n",
       "      <th></th>\n",
       "      <th>timestamp</th>\n",
       "      <th>product_id</th>\n",
       "      <th>customer_id</th>\n",
       "      <th>price</th>\n",
       "      <th>quantity</th>\n",
       "    </tr>\n",
       "  </thead>\n",
       "  <tbody>\n",
       "    <tr>\n",
       "      <th>0</th>\n",
       "      <td>2024-10-06 09:52:47.642780</td>\n",
       "      <td>96157</td>\n",
       "      <td>75663</td>\n",
       "      <td>3452.770646</td>\n",
       "      <td>1</td>\n",
       "    </tr>\n",
       "    <tr>\n",
       "      <th>1</th>\n",
       "      <td>2024-10-06 16:26:40.084757</td>\n",
       "      <td>65208</td>\n",
       "      <td>32352</td>\n",
       "      <td>4701.566434</td>\n",
       "      <td>7</td>\n",
       "    </tr>\n",
       "    <tr>\n",
       "      <th>2</th>\n",
       "      <td>2024-10-06 11:38:25.495712</td>\n",
       "      <td>69001</td>\n",
       "      <td>45875</td>\n",
       "      <td>3991.956195</td>\n",
       "      <td>7</td>\n",
       "    </tr>\n",
       "    <tr>\n",
       "      <th>3</th>\n",
       "      <td>2024-10-06 17:04:03.864015</td>\n",
       "      <td>94892</td>\n",
       "      <td>34150</td>\n",
       "      <td>1714.359356</td>\n",
       "      <td>7</td>\n",
       "    </tr>\n",
       "    <tr>\n",
       "      <th>4</th>\n",
       "      <td>2024-10-06 09:05:26.172610</td>\n",
       "      <td>79148</td>\n",
       "      <td>86619</td>\n",
       "      <td>1015.736198</td>\n",
       "      <td>7</td>\n",
       "    </tr>\n",
       "  </tbody>\n",
       "</table>\n",
       "</div>"
      ],
      "text/plain": [
       "                   timestamp  product_id  customer_id        price  quantity\n",
       "0 2024-10-06 09:52:47.642780       96157        75663  3452.770646         1\n",
       "1 2024-10-06 16:26:40.084757       65208        32352  4701.566434         7\n",
       "2 2024-10-06 11:38:25.495712       69001        45875  3991.956195         7\n",
       "3 2024-10-06 17:04:03.864015       94892        34150  1714.359356         7\n",
       "4 2024-10-06 09:05:26.172610       79148        86619  1015.736198         7"
      ]
     },
     "execution_count": 4,
     "metadata": {},
     "output_type": "execute_result"
    }
   ],
   "source": [
    "# Parameters for sales simulation\n",
    "def simulate_sales_per_day(lam=2000):  # lam is the average number of sales per day based on a Poisson distribution\n",
    "    records = []\n",
    "\n",
    "    # Simulating sales from 9 AM to 9 PM\n",
    "    start_time = datetime.combine(datetime.today(), datetime.min.time()) + timedelta(hours=9)\n",
    "    end_time = start_time + timedelta(hours=12)\n",
    "\n",
    "    # Number of sales to simulate for the day\n",
    "    sales_count = np.random.poisson(lam=lam)\n",
    "\n",
    "    for _ in range(sales_count):\n",
    "        # Randomly generate a timestamp for the sale within the 12-hour window\n",
    "        time_offset = np.random.uniform(0, 12 * 60 * 60)  # Seconds in 12 hours\n",
    "        sale_time = start_time + timedelta(seconds=time_offset)\n",
    "\n",
    "        # Generate the random variables for the sale\n",
    "        product_id = np.random.randint(low=10000, high=99999)\n",
    "        customer_id = np.random.randint(low=10000, high=99999)\n",
    "        price = np.random.uniform(low=1, high=5000)\n",
    "        quantity = np.random.randint(low=1, high=10)\n",
    "\n",
    "        # Create the sale record\n",
    "        record = {\n",
    "            'timestamp': sale_time,\n",
    "            'product_id': product_id,\n",
    "            'customer_id': customer_id,\n",
    "            'price': price,\n",
    "            'quantity': quantity\n",
    "        }\n",
    "\n",
    "        # Add the record to the list\n",
    "        records.append(record)\n",
    "\n",
    "    return records\n",
    "\n",
    "# Simulate a day of sales\n",
    "sales_records = simulate_sales_per_day(lam=50)  # Change lam to set the average number of sales\n",
    "\n",
    "# Convert to a DataFrame for better readability (optional)\n",
    "df_sales = pd.DataFrame(sales_records)\n",
    "\n",
    "# Show the first few records\n",
    "df_sales.head()\n"
   ]
  }
 ],
 "metadata": {
  "kernelspec": {
   "display_name": ".venv",
   "language": "python",
   "name": "python3"
  },
  "language_info": {
   "codemirror_mode": {
    "name": "ipython",
    "version": 3
   },
   "file_extension": ".py",
   "mimetype": "text/x-python",
   "name": "python",
   "nbconvert_exporter": "python",
   "pygments_lexer": "ipython3",
   "version": "3.11.9"
  }
 },
 "nbformat": 4,
 "nbformat_minor": 2
}
